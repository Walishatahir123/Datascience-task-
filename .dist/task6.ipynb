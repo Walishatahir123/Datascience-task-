{
 "cells": [
  {
   "cell_type": "code",
   "execution_count": 1,
   "id": "a469d60c",
   "metadata": {},
   "outputs": [],
   "source": [
    "import pandas as pd\n",
    "import numpy as np\n",
    "from sklearn.model_selection import train_test_split\n",
    "from sklearn.preprocessing import StandardScaler\n",
    "from sklearn.linear_model import LogisticRegression\n",
    "from sklearn.ensemble import RandomForestClassifier\n",
    "from sklearn.metrics import accuracy_score, classification_report, confusion_matrix\n",
    "import matplotlib.pyplot as plt\n",
    "import seaborn as sns"
   ]
  },
  {
   "cell_type": "code",
   "execution_count": 2,
   "id": "6176fd36",
   "metadata": {},
   "outputs": [],
   "source": [
    "# Load dataset\n",
    "df = pd.read_csv(\"house_prices.csv\")\n"
   ]
  },
  {
   "cell_type": "code",
   "execution_count": 3,
   "id": "3c62a4c5",
   "metadata": {},
   "outputs": [],
   "source": [
    "# Create Classification Target\n",
    "# -----------------------------------\n",
    "# Define Expensive (1) vs Affordable (0) based on median SalePrice\n",
    "median_price = df[\"SalePrice\"].median()\n",
    "df[\"PriceCategory\"] = np.where(df[\"SalePrice\"] > median_price, 1, 0)"
   ]
  },
  {
   "cell_type": "code",
   "execution_count": 4,
   "id": "bfa382e8",
   "metadata": {},
   "outputs": [],
   "source": [
    "# Select Features\n",
    "features = ['OverallQual', 'GrLivArea', 'GarageCars', 'TotalBsmtSF', 'YearBuilt', 'LotArea']\n",
    "X = df[features]\n",
    "y = df[\"PriceCategory\"]"
   ]
  },
  {
   "cell_type": "code",
   "execution_count": null,
   "id": "a9c617ad",
   "metadata": {},
   "outputs": [],
   "source": [
    "# 2 Split Train/Test\n",
    "# -----------------------------------\n",
    "X_train, X_test, y_train, y_test = train_test_split(X, y, test_size=0.2, random_state=42)"
   ]
  },
  {
   "cell_type": "code",
   "execution_count": 6,
   "id": "53c2f533",
   "metadata": {},
   "outputs": [],
   "source": [
    "\n",
    "# Scale features for Logistic Regression\n",
    "scaler = StandardScaler()\n",
    "X_train_scaled = scaler.fit_transform(X_train)\n",
    "X_test_scaled = scaler.transform(X_test)"
   ]
  },
  {
   "cell_type": "code",
   "execution_count": null,
   "id": "63e524fb",
   "metadata": {},
   "outputs": [],
   "source": [
    "# 3 Train Logistic Regression\n",
    "# -----------------------------------\n",
    "log_model = LogisticRegression()\n",
    "log_model.fit(X_train_scaled, y_train)\n",
    "y_pred_log = log_model.predict(X_test_scaled)"
   ]
  },
  {
   "cell_type": "code",
   "execution_count": null,
   "id": "2e27a5a5",
   "metadata": {},
   "outputs": [],
   "source": [
    "# 4 Train Random Forest\n",
    "# -----------------------------------\n",
    "rf_model = RandomForestClassifier(n_estimators=100, random_state=42)\n",
    "rf_model.fit(X_train, y_train)\n",
    "y_pred_rf = rf_model.predict(X_test)"
   ]
  },
  {
   "cell_type": "code",
   "execution_count": 9,
   "id": "bde32b25",
   "metadata": {},
   "outputs": [],
   "source": [
    " #Evaluate Both Models\n",
    "# -----------------------------------\n",
    "log_acc = accuracy_score(y_test, y_pred_log)\n",
    "rf_acc = accuracy_score(y_test, y_pred_rf)"
   ]
  },
  {
   "cell_type": "code",
   "execution_count": 10,
   "id": "0e4c629e",
   "metadata": {},
   "outputs": [
    {
     "name": "stdout",
     "output_type": "stream",
     "text": [
      "=== Model Comparison ===\n",
      "Logistic Regression Accuracy: 1.000\n",
      "Random Forest Accuracy:      1.000\n",
      "\n"
     ]
    }
   ],
   "source": [
    "print(\"=== Model Comparison ===\")\n",
    "print(f\"Logistic Regression Accuracy: {log_acc:.3f}\")\n",
    "print(f\"Random Forest Accuracy:      {rf_acc:.3f}\\n\")"
   ]
  },
  {
   "cell_type": "code",
   "execution_count": 11,
   "id": "c85d1d8c",
   "metadata": {},
   "outputs": [
    {
     "name": "stdout",
     "output_type": "stream",
     "text": [
      "=== Logistic Regression Report ===\n",
      "              precision    recall  f1-score   support\n",
      "\n",
      "           0       1.00      1.00      1.00         5\n",
      "           1       1.00      1.00      1.00         5\n",
      "\n",
      "    accuracy                           1.00        10\n",
      "   macro avg       1.00      1.00      1.00        10\n",
      "weighted avg       1.00      1.00      1.00        10\n",
      "\n",
      "=== Random Forest Report ===\n",
      "              precision    recall  f1-score   support\n",
      "\n",
      "           0       1.00      1.00      1.00         5\n",
      "           1       1.00      1.00      1.00         5\n",
      "\n",
      "    accuracy                           1.00        10\n",
      "   macro avg       1.00      1.00      1.00        10\n",
      "weighted avg       1.00      1.00      1.00        10\n",
      "\n"
     ]
    }
   ],
   "source": [
    "# 6 Classification Reports\n",
    "# -----------------------------------\n",
    "print(\"=== Logistic Regression Report ===\")\n",
    "print(classification_report(y_test, y_pred_log))\n",
    "\n",
    "print(\"=== Random Forest Report ===\")\n",
    "print(classification_report(y_test, y_pred_rf))"
   ]
  },
  {
   "cell_type": "code",
   "execution_count": 12,
   "id": "6e789e16",
   "metadata": {},
   "outputs": [
    {
     "data": {
      "image/png": "[encoded data removed]",
      "text/plain": [
       "<Figure size 1000x400 with 4 Axes>"
      ]
     },
     "metadata": {},
     "output_type": "display_data"
    }
   ],
   "source": [
    "# 7 Confusion Matrices\n",
    "# -----------------------------------\n",
    "fig, axes = plt.subplots(1, 2, figsize=(10, 4))\n",
    "\n",
    "sns.heatmap(confusion_matrix(y_test, y_pred_log), annot=True, fmt='d', cmap='Blues', ax=axes[0])\n",
    "axes[0].set_title(\"Logistic Regression Confusion Matrix\")\n",
    "axes[0].set_xlabel(\"Predicted\")\n",
    "axes[0].set_ylabel(\"Actual\")\n",
    "\n",
    "sns.heatmap(confusion_matrix(y_test, y_pred_rf), annot=True, fmt='d', cmap='Greens', ax=axes[1])\n",
    "axes[1].set_title(\"Random Forest Confusion Matrix\")\n",
    "axes[1].set_xlabel(\"Predicted\")\n",
    "axes[1].set_ylabel(\"Actual\")\n",
    "\n",
    "plt.tight_layout()\n",
    "plt.show()\n"
   ]
  },
  {
   "cell_type": "code",
   "execution_count": 13,
   "id": "efc6dbe7",
   "metadata": {},
   "outputs": [
    {
     "name": "stdout",
     "output_type": "stream",
     "text": [
      "=== Random Forest Feature Importance ===\n",
      "       Feature  Importance\n",
      "1    GrLivArea    0.302973\n",
      "3  TotalBsmtSF    0.222886\n",
      "4    YearBuilt    0.199134\n",
      "2   GarageCars    0.111480\n",
      "5      LotArea    0.098804\n",
      "0  OverallQual    0.064722\n"
     ]
    }
   ],
   "source": [
    "feature_importance = pd.DataFrame({\n",
    "    \"Feature\": features,\n",
    "    \"Importance\": rf_model.feature_importances_\n",
    "}).sort_values(by=\"Importance\", ascending=False)\n",
    "\n",
    "print(\"=== Random Forest Feature Importance ===\")\n",
    "print(feature_importance)\n"
   ]
  },
  {
   "cell_type": "code",
   "execution_count": 14,
   "id": "81dcb0ec",
   "metadata": {},
   "outputs": [
    {
     "name": "stdout",
     "output_type": "stream",
     "text": [
      "\n",
      "✅ Week 6 Completed\n",
      "- Converted regression dataset into classification\n",
      "- Built Logistic Regression and Random Forest models\n",
      "- Compared accuracy\n",
      "- Visualized confusion matrices\n",
      "- Identified key features affecting expensive houses\n",
      "\n"
     ]
    }
   ],
   "source": [
    "# ✅ Summary\n",
    "# -----------------------------------\n",
    "print(\"\"\"\n",
    "✅ Week 6 Completed\n",
    "- Converted regression dataset into classification\n",
    "- Built Logistic Regression and Random Forest models\n",
    "- Compared accuracy\n",
    "- Visualized confusion matrices\n",
    "- Identified key features affecting expensive houses\n",
    "\"\"\")"
   ]
  },
  {
   "cell_type": "code",
   "execution_count": null,
   "id": "9b7cfc83",
   "metadata": {},
   "outputs": [],
   "source": []
  }
 ],
 "metadata": {
  "kernelspec": {
   "display_name": "base",
   "language": "python",
   "name": "python3"
  },
  "language_info": {
   "codemirror_mode": {
    "name": "ipython",
    "version": 3
   },
   "file_extension": ".py",
   "mimetype": "text/x-python",
   "name": "python",
   "nbconvert_exporter": "python",
   "pygments_lexer": "ipython3",
   "version": "3.13.5"
  }
 },
 "nbformat": 4,
 "nbformat_minor": 5
}
