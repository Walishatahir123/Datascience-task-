{
 "cells": [
  {
   "cell_type": "code",
   "execution_count": 2,
   "id": "2d385845",
   "metadata": {},
   "outputs": [],
   "source": [
    "import pandas as pd"
   ]
  },
  {
   "cell_type": "code",
   "execution_count": 3,
   "id": "1d8696e5",
   "metadata": {},
   "outputs": [
    {
     "name": "stdout",
     "output_type": "stream",
     "text": [
      "=== BEFORE CLEANING ===\n",
      "   LotArea  OverallQual  YearBuilt  TotalBsmtSF  GrLivArea  GarageCars  \\\n",
      "0     8450            7       2003          856       1710           2   \n",
      "1     9600            6       1976         1262       1262           2   \n",
      "2    11250            7       2001          920       1786           2   \n",
      "3     9550            7       1915          756       1717           3   \n",
      "4    14260            8       2000         1145       2198           3   \n",
      "\n",
      "   SalePrice  \n",
      "0     208500  \n",
      "1     181500  \n",
      "2     223500  \n",
      "3     140000  \n",
      "4     250000  \n",
      "\n",
      "Missing Values:\n",
      " LotArea        0\n",
      "OverallQual    0\n",
      "YearBuilt      0\n",
      "TotalBsmtSF    0\n",
      "GrLivArea      0\n",
      "GarageCars     0\n",
      "SalePrice      0\n",
      "dtype: int64\n",
      "\n",
      "Duplicate Rows: 0\n"
     ]
    }
   ],
   "source": [
    "import pandas as pd\n",
    "import numpy as np\n",
    "# ---------- Step 1: Load the Dataset ----------\n",
    "df = pd.read_csv(\"house_prices.csv\")\n",
    "\n",
    "print(\"=== BEFORE CLEANING ===\")\n",
    "print(df.head())\n",
    "print(\"\\nMissing Values:\\n\", df.isnull().sum())\n",
    "print(\"\\nDuplicate Rows:\", df.duplicated().sum())"
   ]
  },
  {
   "cell_type": "code",
   "execution_count": 4,
   "id": "6769c67d",
   "metadata": {},
   "outputs": [],
   "source": [
    "# ---------- Step 2: Remove Duplicates ----------\n",
    "df = df.drop_duplicates()\n"
   ]
  },
  {
   "cell_type": "code",
   "execution_count": 5,
   "id": "22152b44",
   "metadata": {},
   "outputs": [
    {
     "name": "stderr",
     "output_type": "stream",
     "text": [
      "C:\\Users\\user\\AppData\\Local\\Temp\\ipykernel_3128\\4033071507.py:5: FutureWarning: A value is trying to be set on a copy of a DataFrame or Series through chained assignment using an inplace method.\n",
      "The behavior will change in pandas 3.0. This inplace method will never work because the intermediate object on which we are setting values always behaves as a copy.\n",
      "\n",
      "For example, when doing 'df[col].method(value, inplace=True)', try using 'df.method({col: value}, inplace=True)' or df[col] = df[col].method(value) instead, to perform the operation inplace on the original object.\n",
      "\n",
      "\n",
      "  df[col].fillna(df[col].median(), inplace=True)\n"
     ]
    }
   ],
   "source": [
    "# ---------- Step 3: Handle Missing Values ----------\n",
    "# Fill numeric columns with their median\n",
    "numeric_cols = df.select_dtypes(include=[np.number]).columns\n",
    "for col in numeric_cols:\n",
    "    df[col].fillna(df[col].median(), inplace=True)"
   ]
  },
  {
   "cell_type": "code",
   "execution_count": 6,
   "id": "880533ee",
   "metadata": {},
   "outputs": [],
   "source": [
    "\n",
    "# Fill categorical columns with mode (most frequent value)\n",
    "categorical_cols = df.select_dtypes(exclude=[np.number]).columns\n",
    "for col in categorical_cols:\n",
    "    df[col].fillna(df[col].mode()[0], inplace=True)"
   ]
  },
  {
   "cell_type": "code",
   "execution_count": 7,
   "id": "834f7d88",
   "metadata": {},
   "outputs": [
    {
     "name": "stdout",
     "output_type": "stream",
     "text": [
      "\n",
      "=== AFTER CLEANING ===\n",
      "   LotArea  OverallQual  YearBuilt  TotalBsmtSF  GrLivArea  GarageCars  \\\n",
      "0     8450            7       2003          856       1710           2   \n",
      "1     9600            6       1976         1262       1262           2   \n",
      "2    11250            7       2001          920       1786           2   \n",
      "3     9550            7       1915          756       1717           3   \n",
      "4    14260            8       2000         1145       2198           3   \n",
      "\n",
      "   SalePrice  \n",
      "0     208500  \n",
      "1     181500  \n",
      "2     223500  \n",
      "3     140000  \n",
      "4     250000  \n",
      "\n",
      "Missing Values After Cleaning:\n",
      " LotArea        0\n",
      "OverallQual    0\n",
      "YearBuilt      0\n",
      "TotalBsmtSF    0\n",
      "GrLivArea      0\n",
      "GarageCars     0\n",
      "SalePrice      0\n",
      "dtype: int64\n",
      "\n",
      "Duplicate Rows After Cleaning: 0\n",
      "\n",
      "Cleaned dataset saved as: house_prediction_cleaned.csv\n"
     ]
    }
   ],
   "source": [
    "\n",
    "# ---------- Step 4: Treat Outliers ----------\n",
    "# Example: Remove or cap outliers in 'Price' or 'Price_USD' column (if exists)\n",
    "if 'Price' in df.columns:\n",
    "    col = 'Price'\n",
    "elif 'Price_USD' in df.columns:\n",
    "    col = 'Price_USD'\n",
    "else:\n",
    "    col = None\n",
    "\n",
    "if col:\n",
    "    Q1 = df[col].quantile(0.25)\n",
    "    Q3 = df[col].quantile(0.75)\n",
    "    IQR = Q3 - Q1\n",
    "    upper_limit = Q3 + 1.5 * IQR\n",
    "    lower_limit = Q1 - 1.5 * IQR\n",
    "\n",
    "    # Cap outliers\n",
    "    df[col] = np.where(df[col] > upper_limit, upper_limit,\n",
    "                       np.where(df[col] < lower_limit, lower_limit, df[col]))\n",
    "\n",
    "# ---------- Step 5: Save Cleaned File ----------\n",
    "df.to_csv(\"house_prediction_cleaned.csv\", index=False)\n",
    "\n",
    "print(\"\\n=== AFTER CLEANING ===\")\n",
    "print(df.head())\n",
    "print(\"\\nMissing Values After Cleaning:\\n\", df.isnull().sum())\n",
    "print(\"\\nDuplicate Rows After Cleaning:\", df.duplicated().sum())\n",
    "print(\"\\nCleaned dataset saved as: house_prediction_cleaned.csv\")"
   ]
  },
  {
   "cell_type": "code",
   "execution_count": 8,
   "id": "f6d6ebf7",
   "metadata": {},
   "outputs": [
    {
     "name": "stdout",
     "output_type": "stream",
     "text": [
      "   Before Duplicates  After Duplicates  Before Missing  After Missing\n",
      "0                  0                 0               0              0\n"
     ]
    }
   ],
   "source": [
    "summary = {\n",
    "    \"Before Duplicates\": [df.duplicated().sum()],\n",
    "    \"After Duplicates\": [0],\n",
    "    \"Before Missing\": [df.isnull().sum().sum()],\n",
    "    \"After Missing\": [0]\n",
    "}\n",
    "summary_df = pd.DataFrame(summary)\n",
    "print(summary_df)\n"
   ]
  },
  {
   "cell_type": "code",
   "execution_count": null,
   "id": "b6cb5503",
   "metadata": {},
   "outputs": [],
   "source": []
  }
 ],
 "metadata": {
  "kernelspec": {
   "display_name": "base",
   "language": "python",
   "name": "python3"
  },
  "language_info": {
   "codemirror_mode": {
    "name": "ipython",
    "version": 3
   },
   "file_extension": ".py",
   "mimetype": "text/x-python",
   "name": "python",
   "nbconvert_exporter": "python",
   "pygments_lexer": "ipython3",
   "version": "3.13.5"
  }
 },
 "nbformat": 4,
 "nbformat_minor": 5
}
